{
 "cells": [
  {
   "cell_type": "markdown",
   "metadata": {},
   "source": [
    "**Cargar modelo de embeddings para convertir los dato númericos restantes a datos semánticos**"
   ]
  },
  {
   "cell_type": "code",
   "execution_count": null,
   "metadata": {},
   "outputs": [],
   "source": [
    "from langchain_community.embeddings import HuggingFaceEmbeddings\n",
    "\n",
    "embeddings = HuggingFaceEmbeddings(\n",
    "    model_name=\"Alibaba-NLP/gte-base-en-v1.5\",\n",
    "    model_kwargs={\"device\": \"cpu\", \"trust_remote_code\": True},\n",
    "    encode_kwargs={\"normalize_embeddings\": True},\n",
    ")"
   ]
  },
  {
   "cell_type": "markdown",
   "metadata": {},
   "source": [
    "**Cargar colección de datos procesados con el main.py**   \n",
    "Leemos el archivo de datos procesados mediante un dump a un archivo .bson,   \n",
    "puesto que queremos realizar un menor número de peticiones a la base de datos."
   ]
  },
  {
   "cell_type": "code",
   "execution_count": null,
   "metadata": {},
   "outputs": [],
   "source": [
    "import bson\n",
    "\n",
    "with open(\"embedded.bson\", \"rb\") as f:\n",
    "    data = bson.decode_all(f.read())\n",
    "\n",
    "print(len(data))"
   ]
  },
  {
   "cell_type": "markdown",
   "metadata": {},
   "source": [
    "Para el caso de la CNN calcularemos los parámetros para poder estandarizarlos más adelante en tiempo de ejecución."
   ]
  },
  {
   "cell_type": "code",
   "execution_count": null,
   "metadata": {},
   "outputs": [],
   "source": [
    "import numpy as np\n",
    "expYears = []\n",
    "expYearsManagement = []\n",
    "avgTimeInJob = []\n",
    "for i in range(len(data)):\n",
    "    expYears.append(data[i][\"expYears\"])\n",
    "    expYearsManagement.append(data[i][\"expYearsManagement\"])\n",
    "    avgTimeInJob.append(data[i][\"avgTimeInJob\"])\n",
    "expYears = np.array(expYears).reshape(-1, 1)\n",
    "expYearsManagement = np.array(expYearsManagement).reshape(-1, 1)\n",
    "avgTimeInJob = np.array(avgTimeInJob).reshape(-1, 1)\n",
    "\n",
    "# Compute the minimum and maximum of the data\n",
    "min_val = np.min(expYears)\n",
    "max_val = np.max(expYears)\n",
    "\n",
    "min_val_management = np.min(expYearsManagement)\n",
    "max_val_management = np.max(expYearsManagement)\n",
    "\n",
    "min_val_avgTimeInJob = np.min(avgTimeInJob)\n",
    "max_val_avgTimeInJob = np.max(avgTimeInJob)\n",
    "\n",
    "# Define a function to scale data\n",
    "def min_max_scale(data, min_val, max_val):\n",
    "    return (data - min_val) / (max_val - min_val)\n"
   ]
  },
  {
   "cell_type": "markdown",
   "metadata": {},
   "source": [
    "**Preparar una función para convertir los datos númericos restantes a datos semánticos**     \n",
    "Originalmente recibimos algunos datos que son escalares númericos, como los años de experiencia, estos serán convertidos a datos semánticos. Encontramos que la mejor forma de conservar la numeralidad en la forma de embeddings era primero pasar los años a meses y luego a una cadena de texto.  \n",
    "Esto lo hacemos con una librería de python que dado un entero, lo convierte a su forma de texto en inglés."
   ]
  },
  {
   "cell_type": "code",
   "execution_count": null,
   "metadata": {},
   "outputs": [],
   "source": [
    "from num2words import num2words\n",
    "def monthsofexperience(expYears):\n",
    "    months = int(expYears * 12)\n",
    "    return f\"The candidate has {num2words(months)} months of labor experience\"\n",
    "\n",
    "# monthsofexperience(2) -> 'The candidate has twenty-four months of labor experience'"
   ]
  },
  {
   "cell_type": "markdown",
   "metadata": {},
   "source": [
    "En el anterior bloque de código, se puede ver la primera función de conversión de datos númericos a datos semánticos.   \n",
    "Como ejemplo si pasamos como argumento 2, la función devolverá un string con el texto *\"The candidate has twenty-four months of labor experience\"*.   \n",
    "Definimos el resto de funciones que funcionan bajo el mismo principio, pero para distintos campos númericos."
   ]
  },
  {
   "cell_type": "code",
   "execution_count": null,
   "metadata": {},
   "outputs": [],
   "source": [
    "def expYearsEmbedding(expYears):\n",
    "    if expYears >= 5:\n",
    "        temp =monthsofexperience(expYears) + \", so he has enough experience to be a manager\"\n",
    "    else:\n",
    "        temp = monthsofexperience(expYears) + \", so he is not qualified to be a manager\"\n",
    "    return np.array(embeddings.embed_documents([temp])[0])\n",
    "    \n",
    "def expYearsEmbedding2(expYearsManagement):\n",
    "    if expYearsManagement >= 5:\n",
    "        temp = monthsofexperience(expYearsManagement) + \", so he has enough experience to have an executive position\"\n",
    "    else:\n",
    "        temp = monthsofexperience(expYearsManagement) + \", so he is not qualified to have an executive position\"\n",
    "    return np.array(embeddings.embed_documents([temp])[0])\n",
    "\n",
    "def avgTimeInJobEmb(avgTimeInJob):\n",
    "    temp = f\"The candidate has an average of {num2words(avgTimeInJob)} months in each job\"\n",
    "    return np.array(embeddings.embed_documents([temp])[0])\n",
    "\n",
    "def management_position(management_position):\n",
    "    if management_position:\n",
    "        temp = \"One of the recent jobs of the candidate was in a management position\"\n",
    "    elif management_position == False:\n",
    "        temp = \"One of the recent jobs of the candidate did not involve management activities\"\n",
    "    else:\n",
    "        temp = \"The candidate didn't provide information about his recent jobs\"\n",
    "        \n",
    "    return np.array(embeddings.embed_documents([temp])[0])\n",
    "\n",
    "def education_level(education_level):\n",
    "    if education_level < 0:\n",
    "        temp = \"The candidate didn't provide information about his education level\"\n",
    "    elif education_level == 0:\n",
    "        temp = \"The candidate has a high school education level\"\n",
    "    elif education_level == 1:\n",
    "        temp = \"The candidate has a college education level\"\n",
    "    elif education_level == 2:\n",
    "        temp = \"The candidate has a postgraduate education level\"\n",
    "    else:\n",
    "        temp = \"The candidate has a doctorate education level\"\n",
    "    return np.array(embeddings.embed_documents([temp])[0])"
   ]
  },
  {
   "cell_type": "markdown",
   "metadata": {},
   "source": [
    "**Definir constantes para datos faltantes**    \n",
    "Hemos decidido utilizar siempre los últimos 3 trabajos de un candidato, sin embargo, si un candidato tiene menos de 3 trabajos, completaremos con las definidas a continuación.    \n",
    "Lo mismo aplicará a la educación del candidato, siempre trataremos de obtener información acerca de su grado universitario, y sobre su educación más alta por encima del grado universitario. Si no se tiene información, también completaremos con las definidas a continuación."
   ]
  },
  {
   "cell_type": "code",
   "execution_count": null,
   "metadata": {},
   "outputs": [],
   "source": [
    "NA_JOB_CONST = np.array(embeddings.embed_documents([\"No more jobs where found for this candidare\"])[0])\n",
    "NA_CONST = np.array(embeddings.embed_documents([\"Not available information\"])[0])"
   ]
  },
  {
   "cell_type": "markdown",
   "metadata": {},
   "source": [
    "**Convertir la información sobre la carpeta al momento de procesar los datos en la etiqueta para aprendizaje supervisado**    \n",
    "Al momento de procesar los CVs, se guardó la ruta de la carpeta donde se encontraba el CV, esta información será utilizada para etiquetar los datos."
   ]
  },
  {
   "cell_type": "code",
   "execution_count": null,
   "metadata": {},
   "outputs": [],
   "source": [
    "def labeler(label):\n",
    "    if \"Especialista\" in label:\n",
    "        return 0\n",
    "    elif \"Gerente\" in label:\n",
    "        return 1\n",
    "    elif \"Director\" in label:\n",
    "        return 2"
   ]
  },
  {
   "cell_type": "markdown",
   "metadata": {},
   "source": [
    "**Crear una función para obtener las matrices qeu alimentan a los modelos**    \n",
    "Con las funciones previamente definidas, podemos obtener las matrices que alimentarán a los modelos.    \n",
    "Hemos definido 15 características a utilizar para candidato que consideramos relevantes para su clasificación en una de las 3 categorías. Estas características han sido cuidadosamente seleccionadas para evitar tener sesgos en el modelo. Y siempre estarán en un lenguaje neutro y omiten deliberadamente información de carácter personal, puesto que han sido reescritas de forma que se omiten detalles particulares.\n",
    "Las características son las siguientes:\n",
    "1. Años de experiencia laboral\n",
    "2. Años en puestos de liderazgo\n",
    "3. Tiempo promedio en cada trabajo\n",
    "4. Información indicando el nivel de educación más alto (High School, College, Postgraduate, NA)\n",
    "5. Titulo de educación más alta (Por encima de grado universitario, no se incluye el nombre de la universidad)\n",
    "6. Titulo de grado universitario (No se incluye el nombre de la universidad)\n",
    "7. Titulo de trabajo último trabajo (No se incluye el nombre de la empresa de forma deliberada)\n",
    "8. Resumen de las responsabilidades del último trabajo\n",
    "9. Categorización sobre si el último trabajo involucra liderazgo\n",
    "10. Titulo del penúltimo trabajo (No se incluye el nombre de la empresa de forma deliberada)\n",
    "11. Resumen de las responsabilidades del penúltimo trabajo\n",
    "12. Categorización sobre si el penúltimo trabajo involucra liderazgo\n",
    "13. Titulo del antepenúltimo trabajo (No se incluye el nombre de la empresa de forma deliberada)\n",
    "14. Resumen de las responsabilidades del antepenúltimo trabajo\n",
    "15. Categorización sobre si el antepenúltimo trabajo involucra liderazgo\n"
   ]
  },
  {
   "cell_type": "code",
   "execution_count": null,
   "metadata": {},
   "outputs": [],
   "source": [
    "def to_matrix(bson):\n",
    "    totalWorks = len(bson[\"work\"])\n",
    "    work_title = []\n",
    "    work_brief = []\n",
    "    work_management = []\n",
    "    for i in range(1,4):\n",
    "        if totalWorks-i < 0:\n",
    "            work_title.append(NA_JOB_CONST)\n",
    "            work_brief.append(NA_JOB_CONST)\n",
    "            work_management.append(NA_JOB_CONST)\n",
    "        else:\n",
    "            work_title.append(bson[\"work\"][totalWorks-i][\"title\"])\n",
    "            work_brief.append(bson[\"work\"][totalWorks-i][\"brief\"])\n",
    "            if bson[\"work\"][totalWorks-i][\"management\"] == 0:\n",
    "                work_management.append(management_position(False))\n",
    "            else:\n",
    "                work_management.append(management_position(True))\n",
    "    if bson[\"bachelor\"] != None:\n",
    "        bachelor_title = bson[\"bachelor\"][\"title\"]\n",
    "    else:\n",
    "        bachelor_title = NA_CONST\n",
    "\n",
    "    if bson[\"maxEducation\"] != None:\n",
    "        maxEducation_title = bson[\"maxEducation\"][\"title\"]\n",
    "    else:\n",
    "        maxEducation_title = NA_CONST\n",
    "        \n",
    "    expYears = expYearsEmbedding(bson[\"expYears\"])\n",
    "    #expYearsNumeric = np.ones(expYears.shape) * min_max_scale(bson[\"expYears\"], min_val, max_val)\n",
    "    expYearsManagement = expYearsEmbedding2(bson[\"expYearsManagement\"])\n",
    "    #expYearsManagementNumeric = np.ones(expYearsManagement.shape) * min_max_scale(bson[\"expYearsManagement\"], min_val_management, max_val_management)\n",
    "    avgTimeInJob = avgTimeInJobEmb(bson[\"avgTimeInJob\"])\n",
    "    #avgTimeInJobNumeric = np.ones(avgTimeInJob.shape) * min_max_scale(bson[\"avgTimeInJob\"], min_val_avgTimeInJob, max_val_avgTimeInJob)\n",
    "    highestEducation = education_level(bson[\"highestEducation\"])\n",
    "\n",
    "    # Put all the data together into a giant np.array where each variable is a column\n",
    "    data = np.vstack([expYears,\n",
    "                      #expYearsNumeric, \n",
    "                    expYearsManagement, \n",
    "                    #expYearsManagementNumeric,\n",
    "                    avgTimeInJob, \n",
    "                    #avgTimeInJobNumeric,\n",
    "                    highestEducation,\n",
    "                    bachelor_title, \n",
    "                    maxEducation_title, \n",
    "                    work_title[0], \n",
    "                    work_brief[0],\n",
    "                    work_management[0], \n",
    "                    work_title[1],\n",
    "                    work_brief[1],\n",
    "                    work_management[1], \n",
    "                    work_title[2], \n",
    "                    work_brief[2],\n",
    "                    work_management[2]])\n",
    "    return (data, labeler(bson[\"label\"]), bson[\"file\"])"
   ]
  },
  {
   "cell_type": "markdown",
   "metadata": {},
   "source": [
    "Lo último que queda es ejecutar la función dentro de un bucle que recorra todos los datos procesados y guardarlos en un archivo .npy que tendrá las siguientes dimensiones:    \n",
    "(Número de datos, 15, 768)"
   ]
  },
  {
   "cell_type": "code",
   "execution_count": null,
   "metadata": {},
   "outputs": [],
   "source": [
    "from random import randint\n",
    "# Añadimos un randint para evitar colisiones en los nombres de los archivos\n",
    "# En este caso guardamos los archivos en la carpeta Data_matrix por si se necesitan tener por separado\n",
    "def flujo(bson):\n",
    "    try:\n",
    "        a = to_matrix(bson)\n",
    "        filename = a[2].split(\"/\")[0]\n",
    "        with open(f\"Data_matrix/{a[1]}/{filename}{randint(1,100)}.csv\", \"wb\") as f:\n",
    "            np.savetxt(f, a[0], delimiter=\",\")\n",
    "    except:\n",
    "        print(\"Error with \", bson[\"file\"])"
   ]
  },
  {
   "cell_type": "code",
   "execution_count": null,
   "metadata": {},
   "outputs": [],
   "source": [
    "import os\n",
    "from joblib import Parallel, delayed\n",
    "Parallel(n_jobs=-1, prefer=\"threads\")(delayed(flujo)(bson) for bson in data)\n",
    "\n",
    "def load_data():\n",
    "    X = []\n",
    "    y = []\n",
    "    for label in os.listdir(\"Data_matrix\"):\n",
    "        for file in os.listdir(f\"Data_matrix/{label}\"):\n",
    "            data = np.loadtxt(f\"Data_matrix/{label}/{file}\", delimiter=\",\")\n",
    "            X.append(data)\n",
    "            y.append(int(label))\n",
    "    return np.array(X), np.array(y)\n",
    "\n",
    "X, Y = load_data()\n",
    "\n",
    "X = np.load(\"X.npy\")\n",
    "Y = np.load(\"Y.npy\")"
   ]
  }
 ],
 "metadata": {
  "language_info": {
   "name": "python"
  }
 },
 "nbformat": 4,
 "nbformat_minor": 2
}
